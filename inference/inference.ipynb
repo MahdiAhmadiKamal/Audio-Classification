{
 "cells": [
  {
   "cell_type": "code",
   "execution_count": 1,
   "id": "55548092",
   "metadata": {},
   "outputs": [],
   "source": [
    "import os\n",
    "import numpy as np\n",
    "import tensorflow as tf\n",
    "import pydub"
   ]
  },
  {
   "cell_type": "code",
   "execution_count": 2,
   "id": "f89137e3",
   "metadata": {},
   "outputs": [],
   "source": [
    "labels = []\n",
    "for file in os.listdir(\"../dataset\"):\n",
    "    labels.append(file.split('.')[0])"
   ]
  },
  {
   "cell_type": "code",
   "execution_count": 3,
   "id": "340109da",
   "metadata": {},
   "outputs": [
    {
     "name": "stdout",
     "output_type": "stream",
     "text": [
      "['Abdollah', 'Azra', 'Davood', 'Javad', 'Khadijeh', 'Kiana', 'Mahdi', 'Maryam', 'Matin', 'Melika', 'Mohadeseh', 'Mohammad', 'Mohammad_parvari', 'Mona', 'Nahid', 'Nima', 'Omid', 'Parisa', 'Parsa', 'Sajedeh', 'Shima', 'Tara']\n"
     ]
    }
   ],
   "source": [
    "print(labels)"
   ]
  },
  {
   "cell_type": "markdown",
   "id": "a917fc52",
   "metadata": {},
   "source": [
    "preprocess audio"
   ]
  },
  {
   "cell_type": "code",
   "execution_count": 8,
   "id": "f084ca45",
   "metadata": {},
   "outputs": [
    {
     "data": {
      "text/plain": [
       "<_io.BufferedRandom name='input_audio\\\\input_audio.wav'>"
      ]
     },
     "execution_count": 8,
     "metadata": {},
     "output_type": "execute_result"
    }
   ],
   "source": [
    "file_path = \"input_audio\\Mahdi_2.ogg\"\n",
    "audio = pydub.AudioSegment.from_file(file_path)\n",
    "\n",
    "audio = audio.set_sample_width(2)    # convert to 16-bit (2 bytes per sample) to avoid tensorflow error\n",
    "audio = audio.set_frame_rate(48000)\n",
    "audio = audio.set_channels(1)        # convert stereo audio to mono audio to avoid tensorflow error\n",
    "\n",
    "chunks = pydub.silence.split_on_silence(audio, min_silence_len=2000, silence_thresh=-45)\n",
    "result = sum(chunks)\n",
    "result.export(\"input_audio\\input_audio.wav\", format=\"wav\")"
   ]
  },
  {
   "cell_type": "markdown",
   "id": "f4c0bcca",
   "metadata": {},
   "source": [
    "turn input audio into 1 second chunks"
   ]
  },
  {
   "cell_type": "code",
   "execution_count": 12,
   "id": "fd657d14",
   "metadata": {},
   "outputs": [],
   "source": [
    "audio = pydub.AudioSegment.from_file(\"input_audio\\input_audio.wav\")\n",
    "chunks = pydub.utils.make_chunks(audio, 1000)\n",
    "\n",
    "os.makedirs(\"input_audio_chunks\")\n",
    "for i , chunk in enumerate(chunks):\n",
    "    if len(chunk) < 1000 :\n",
    "        continue\n",
    "    chunk.export(os.path.join(\"input_audio_chunks\", f\"voice{i}.wav\"), format=\"wav\")"
   ]
  },
  {
   "cell_type": "code",
   "execution_count": 10,
   "id": "aeae667d",
   "metadata": {},
   "outputs": [],
   "source": [
    "audio_chunks = []\n",
    "\n",
    "for audio_chunk in os.listdir(\"input_audio_chunks\"):\n",
    "    audio_chunks.append(audio_chunk)\n",
    "# audio_chunks"
   ]
  },
  {
   "cell_type": "code",
   "execution_count": 11,
   "id": "9065bda2",
   "metadata": {},
   "outputs": [],
   "source": [
    "xs = []\n",
    "for audio_chunk in audio_chunks:\n",
    "    x = tf.io.read_file(\"input_audio_chunks/\"+audio_chunk)\n",
    "    x, sample_rate = tf.audio.decode_wav(x, desired_channels=1, desired_samples=48000)\n",
    "    x = tf.squeeze(x, axis=-1)\n",
    "    x = x[tf.newaxis,...]\n",
    "    xs.append(x)"
   ]
  },
  {
   "cell_type": "markdown",
   "id": "ee1d20f5",
   "metadata": {},
   "source": [
    "load model"
   ]
  },
  {
   "cell_type": "code",
   "execution_count": 14,
   "id": "7104d462",
   "metadata": {},
   "outputs": [
    {
     "name": "stderr",
     "output_type": "stream",
     "text": [
      "WARNING:absl:Compiled the loaded model, but the compiled metrics have yet to be built. `model.compile_metrics` will be empty until you train or evaluate the model.\n"
     ]
    }
   ],
   "source": [
    "model = tf.keras.models.load_model('../weights/audio_classification.h5')"
   ]
  },
  {
   "cell_type": "markdown",
   "id": "b9078181",
   "metadata": {},
   "source": [
    "predict"
   ]
  },
  {
   "cell_type": "code",
   "execution_count": 15,
   "id": "a51062d3",
   "metadata": {},
   "outputs": [
    {
     "name": "stdout",
     "output_type": "stream",
     "text": [
      "The voice belongs to:  Mahdi\n"
     ]
    }
   ],
   "source": [
    "preds = []\n",
    "for x in xs:\n",
    "    pred = model(x)\n",
    "    label = np.argmax(pred)\n",
    "    preds.append(labels[label])\n",
    "# print(preds)\n",
    "most_common = max(set(preds), key=preds.count)                # Finds the most common element in preds list\n",
    "# print(most)\n",
    "print(\"The voice belongs to: \", most_common)"
   ]
  }
 ],
 "metadata": {
  "kernelspec": {
   "display_name": "Python 3",
   "language": "python",
   "name": "python3"
  },
  "language_info": {
   "codemirror_mode": {
    "name": "ipython",
    "version": 3
   },
   "file_extension": ".py",
   "mimetype": "text/x-python",
   "name": "python",
   "nbconvert_exporter": "python",
   "pygments_lexer": "ipython3",
   "version": "3.11.9"
  }
 },
 "nbformat": 4,
 "nbformat_minor": 5
}
